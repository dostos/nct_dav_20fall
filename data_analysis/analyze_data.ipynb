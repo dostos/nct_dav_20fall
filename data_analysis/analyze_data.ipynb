{
 "cells": [
  {
   "cell_type": "code",
   "execution_count": 1,
   "metadata": {},
   "outputs": [],
   "source": [
    "import pandas as pd\n",
    "import json\n",
    "import numpy as np\n",
    "import yaml\n",
    "\n",
    "with open('article_publication.json') as f:\n",
    "    article_publication = json.load(f)\n",
    "    \n",
    "df = pd.DataFrame(article_publication)\n",
    "df = df.fillna(0)\n",
    "    \n",
    "with open('config.yaml') as f:\n",
    "    biases = pd.Series(yaml.load(f)['publication_bias'])\n",
    "    \n",
    "publications = biases.sort_values().index\n",
    "words = list(list(article_publication.values())[0].keys())"
   ]
  },
  {
   "cell_type": "code",
   "execution_count": 2,
   "metadata": {},
   "outputs": [],
   "source": [
    "# dd = {}\n",
    "# for i in range(df.shape[0]):\n",
    "#     corr = np.corrcoef(df.iloc[i], biases)[0][1]\n",
    "#     dd[df.index[i]] = corr\n",
    "\n",
    "# with open('corr.json', 'w') as f:\n",
    "#     json.dump(dd, f)"
   ]
  },
  {
   "cell_type": "code",
   "execution_count": 3,
   "metadata": {},
   "outputs": [],
   "source": [
    "with open('corr.json') as f:\n",
    "    dd = json.load(f)"
   ]
  },
  {
   "cell_type": "code",
   "execution_count": 4,
   "metadata": {},
   "outputs": [],
   "source": [
    "words_filtered = df[(df.sum(axis=1) > 5000)].dropna().index\n",
    "words_filtered = set(words_filtered)"
   ]
  },
  {
   "cell_type": "code",
   "execution_count": 5,
   "metadata": {},
   "outputs": [],
   "source": [
    "dd_filtered = {k : v for k, v in dd.items() if k in words_filtered}\n",
    "k_vs = sorted(dd_filtered.items(), key=lambda k_v: k_v[1], reverse=True)"
   ]
  },
  {
   "cell_type": "code",
   "execution_count": 6,
   "metadata": {},
   "outputs": [],
   "source": [
    "using_keywords = [k for k, v in k_vs[:50] + k_vs[-50:]]"
   ]
  },
  {
   "cell_type": "code",
   "execution_count": 7,
   "metadata": {},
   "outputs": [],
   "source": [
    "keyword_max_dict = {keyword: max(df[publication][keyword] for publication in publications)\n",
    "                    for keyword in using_keywords}"
   ]
  },
  {
   "cell_type": "code",
   "execution_count": 8,
   "metadata": {},
   "outputs": [],
   "source": [
    "with open('../visualization/d3/data_1.csv', 'w') as f:\n",
    "    f.write('Media,Bias Level,' + ','.join(using_keywords) + '\\n')\n",
    "    for publication in publications:\n",
    "        f.write(','.join([publication, str(biases[publication]), *[str(df[publication][keyword] / keyword_max_dict[keyword]) for keyword in using_keywords]]) + '\\n')"
   ]
  }
 ],
 "metadata": {
  "kernelspec": {
   "display_name": "Python 3",
   "language": "python",
   "name": "python3"
  },
  "language_info": {
   "codemirror_mode": {
    "name": "ipython",
    "version": 3
   },
   "file_extension": ".py",
   "mimetype": "text/x-python",
   "name": "python",
   "nbconvert_exporter": "python",
   "pygments_lexer": "ipython3",
   "version": "3.6.9"
  }
 },
 "nbformat": 4,
 "nbformat_minor": 4
}
