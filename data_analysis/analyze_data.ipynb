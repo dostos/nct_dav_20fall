{
 "cells": [
  {
   "cell_type": "code",
   "execution_count": 62,
   "metadata": {},
   "outputs": [],
   "source": [
    "import pandas as pd\n",
    "import json\n",
    "import numpy as np\n",
    "import yaml\n",
    "\n",
    "with open('article_publication.json') as f:\n",
    "    article_publication = json.load(f)\n",
    "    \n",
    "df = pd.DataFrame(article_publication)\n",
    "df = df.fillna(0)\n",
    "df_normalize = df / df.sum(axis=0)\n",
    "    \n",
    "with open('config.yaml') as f:\n",
    "    biases = pd.Series(yaml.load(f)['publication_bias'])\n",
    "    \n",
    "publications = biases[biases > 0].sort_values().index\n",
    "words = list(list(article_publication.values())[0].keys())"
   ]
  },
  {
   "cell_type": "code",
   "execution_count": 63,
   "metadata": {},
   "outputs": [],
   "source": [
    "dd = {}\n",
    "for i in range(df_normalize.shape[0]):\n",
    "    corr = np.corrcoef(df_normalize.iloc[i], biases)[0][1]\n",
    "    dd[df_normalize.index[i]] = corr\n",
    "\n",
    "with open('corr.json', 'w') as f:\n",
    "    json.dump(dd, f)"
   ]
  },
  {
   "cell_type": "code",
   "execution_count": 64,
   "metadata": {},
   "outputs": [],
   "source": [
    "with open('corr.json') as f:\n",
    "    dd = json.load(f)"
   ]
  },
  {
   "cell_type": "code",
   "execution_count": 65,
   "metadata": {},
   "outputs": [],
   "source": [
    "# words_filtered = df_normalize[(df_normalize.sum(axis=1) > 5000)].dropna().index\n",
    "# words_filtered = set(words_filtered)"
   ]
  },
  {
   "cell_type": "code",
   "execution_count": 77,
   "metadata": {},
   "outputs": [],
   "source": [
    "words_filtered = set(df_normalize.dropna().index)"
   ]
  },
  {
   "cell_type": "code",
   "execution_count": 80,
   "metadata": {},
   "outputs": [],
   "source": [
    "dd_filtered = {k : v for k, v in dd.items() if k in words_filtered}\n",
    "k_vs = sorted(dd_filtered.items(), key=lambda k_v: k_v[1], reverse=True)"
   ]
  },
  {
   "cell_type": "code",
   "execution_count": 96,
   "metadata": {},
   "outputs": [],
   "source": [
    "keyword_max_dict = {keyword: max(df_normalize[publication][keyword] for publication in publications)\n",
    "                    for keyword in words_filtered}"
   ]
  },
  {
   "cell_type": "code",
   "execution_count": 99,
   "metadata": {},
   "outputs": [],
   "source": [
    "using_keywords = [k for k, v in k_vs]\n",
    "filtered_keywords = ['1056', '2571']\n",
    "okay_keywords = []\n",
    "for k in filtered_keywords + okay_keywords:\n",
    "    using_keywords.remove(k)\n",
    "using_keywords = using_keywords[:5] + using_keywords[-5:]\n",
    "\n",
    "with open('../visualization/d3/data_1.csv', 'w') as f:\n",
    "    f.write('Media,Bias Level,' + ','.join(using_keywords) + '\\n')\n",
    "    for publication in publications:\n",
    "        f.write(','.join([publication, str(biases[publication]), *[str(df_normalize[publication][keyword] / keyword_max_dict[keyword]) for keyword in using_keywords]]) + '\\n')"
   ]
  },
  {
   "cell_type": "code",
   "execution_count": null,
   "metadata": {},
   "outputs": [],
   "source": []
  }
 ],
 "metadata": {
  "kernelspec": {
   "display_name": "Python 3",
   "language": "python",
   "name": "python3"
  },
  "language_info": {
   "codemirror_mode": {
    "name": "ipython",
    "version": 3
   },
   "file_extension": ".py",
   "mimetype": "text/x-python",
   "name": "python",
   "nbconvert_exporter": "python",
   "pygments_lexer": "ipython3",
   "version": "3.6.9"
  }
 },
 "nbformat": 4,
 "nbformat_minor": 4
}
